{
 "cells": [
  {
   "cell_type": "code",
   "execution_count": 1,
   "metadata": {},
   "outputs": [],
   "source": [
    "%load_ext autoreload\n",
    "%autoreload 2"
   ]
  },
  {
   "cell_type": "code",
   "execution_count": 2,
   "metadata": {},
   "outputs": [],
   "source": [
    "# from tensorflow.compat.v1 import ConfigProto\n",
    "# from tensorflow.compat.v1 import InteractiveSession\n",
    "\n",
    "# config = ConfigProto()\n",
    "# config.gpu_options.allow_growth = True\n",
    "# session = InteractiveSession(config=config)"
   ]
  },
  {
   "cell_type": "markdown",
   "metadata": {
    "id": "FaAUkhTxnzQT"
   },
   "source": [
    "# Environment prep for Colab\n",
    " - download git repo \n",
    " - install required pip packages"
   ]
  },
  {
   "cell_type": "code",
   "execution_count": 3,
   "metadata": {
    "colab": {
     "base_uri": "https://localhost:8080/",
     "height": 0
    },
    "executionInfo": {
     "elapsed": 60214,
     "status": "ok",
     "timestamp": 1602138785241,
     "user": {
      "displayName": "Mina Atteia",
      "photoUrl": "",
      "userId": "14943304361895926464"
     },
     "user_tz": -120
    },
    "id": "0zbi2r-8nENp",
    "outputId": "ea5725d6-2792-4df8-8c00-366c2c84afb2",
    "scrolled": true
   },
   "outputs": [],
   "source": [
    "#from google.colab import drive\n",
    "#drive.mount('/content/drive')\n",
    "#!mkdir /content/drive/My\\ Drive/Results\n",
    "#MAIN_SAVE_DIR = '/content/drive/My Drive/Results'\n",
    "#IMG_DIR = '/content/Generative_Models/data/.pokemon' #change .qbert here as well!git clone https://github.com/kkahloots/Generative_Models.git # this is for loading git with correct brach\n",
    "#%cd /content/Generative_Models/\n",
    "#!pip -q install -r /content/Generative_Models/requirements.txt\n",
    "#!pip install colorlog==4.0.2\n",
    "#%cd /content/"
   ]
  },
  {
   "cell_type": "markdown",
   "metadata": {
    "id": "pDUjPvxE-DA2"
   },
   "source": [
    "# Connect Drive to save and restore results"
   ]
  },
  {
   "cell_type": "code",
   "execution_count": 4,
   "metadata": {
    "colab": {
     "base_uri": "https://localhost:8080/",
     "height": 51
    },
    "executionInfo": {
     "elapsed": 103544,
     "status": "ok",
     "timestamp": 1602138831338,
     "user": {
      "displayName": "Mina Atteia",
      "photoUrl": "",
      "userId": "14943304361895926464"
     },
     "user_tz": -120
    },
    "id": "YqhHHzGuEAi1",
    "outputId": "ae8d1354-44a1-4bd9-c70c-ea57ca2ad21a"
   },
   "outputs": [],
   "source": [
    "#from google.colab import drive\n",
    "#drive.mount('/content/drive')\n",
    "#!mkdir /content/drive/My\\ Drive/Results\n",
    "#MAIN_SAVE_DIR = '/content/drive/My Drive/Results'\n",
    "#IMG_DIR = '/content/Generative_Models/data/.pokemon' #change .qbert here as well"
   ]
  },
  {
   "cell_type": "markdown",
   "metadata": {},
   "source": [
    "# Settings"
   ]
  },
  {
   "cell_type": "code",
   "execution_count": 5,
   "metadata": {},
   "outputs": [
    {
     "name": "stdout",
     "output_type": "stream",
     "text": [
      "env: TF_KERAS=1\n",
      "\\\n"
     ]
    }
   ],
   "source": [
    "%env TF_KERAS = 1\n",
    "import os\n",
    "sep_local = os.path.sep\n",
    "\n",
    "import sys\n",
    "sys.path.append('..'+sep_local+'..')\n",
    "print(sep_local)"
   ]
  },
  {
   "cell_type": "code",
   "execution_count": 6,
   "metadata": {},
   "outputs": [],
   "source": [
    "#!pip -q install -r requirements.txt"
   ]
  },
  {
   "cell_type": "code",
   "execution_count": 7,
   "metadata": {},
   "outputs": [
    {
     "name": "stdout",
     "output_type": "stream",
     "text": [
      "2.3.1\n"
     ]
    }
   ],
   "source": [
    "import tensorflow as tf\n",
    "print(tf.__version__)"
   ]
  },
  {
   "cell_type": "code",
   "execution_count": 8,
   "metadata": {},
   "outputs": [
    {
     "data": {
      "text/plain": [
       "'C:\\\\Users\\\\Kriple\\\\PycharmProjects\\\\pythonProject\\\\PokemonGAN\\\\notebooks'"
      ]
     },
     "execution_count": 8,
     "metadata": {},
     "output_type": "execute_result"
    }
   ],
   "source": [
    "os.getcwd()"
   ]
  },
  {
   "cell_type": "code",
   "execution_count": 9,
   "metadata": {},
   "outputs": [
    {
     "name": "stdout",
     "output_type": "stream",
     "text": [
      "C:\\Users\\Kriple\\PycharmProjects\\pythonProject\\PokemonGAN\n"
     ]
    }
   ],
   "source": [
    "os.chdir('..'+sep_local)\n",
    "print(os.getcwd())"
   ]
  },
  {
   "cell_type": "markdown",
   "metadata": {},
   "source": [
    "# only on colab"
   ]
  },
  {
   "cell_type": "code",
   "execution_count": 10,
   "metadata": {},
   "outputs": [],
   "source": [
    "#!cat data/.pokemon/pokemon.tar.part* > data/.pokemon/pokemon.tar"
   ]
  },
  {
   "cell_type": "code",
   "execution_count": 11,
   "metadata": {},
   "outputs": [],
   "source": [
    "#!tar -xvf data/.pokemon/pokemon_combined.tar --directory data/.pokemon/"
   ]
  },
  {
   "cell_type": "markdown",
   "metadata": {},
   "source": [
    "# Dataset loading"
   ]
  },
  {
   "cell_type": "code",
   "execution_count": 12,
   "metadata": {},
   "outputs": [],
   "source": [
    "from generators.from_lmdb.lmdb_image_generator import get_generators"
   ]
  },
  {
   "cell_type": "code",
   "execution_count": 25,
   "metadata": {},
   "outputs": [],
   "source": [
    "dataset_name='pokemon'\n",
    "inputs_shape= image_shape=(128, 128, 3)\n",
    "batch_size = 36\n",
    "latents_dim = 128\n",
    "intermediate_dim = 50\n",
    "lmdb_dir = 'data/.pokemon_LMDB'"
   ]
  },
  {
   "cell_type": "code",
   "execution_count": 26,
   "metadata": {},
   "outputs": [],
   "source": [
    "from transformation.lmdb_transformer import LmdbTransformer"
   ]
  },
  {
   "cell_type": "code",
   "execution_count": 27,
   "metadata": {
    "scrolled": true
   },
   "outputs": [
    {
     "name": "stdout",
     "output_type": "stream",
     "text": [
      "Initializing Iterator training Number of images 591\n",
      "Initializing Iterator validation Number of images 218\n"
     ]
    },
    {
     "name": "stderr",
     "output_type": "stream",
     "text": [
      "C:\\Users\\Kriple\\PycharmProjects\\pythonProject\\PokemonGAN\\transformation\\file_image_generator.py:51: UserWarning: No files found\n",
      "  warnings.warn(msg)\n"
     ]
    }
   ],
   "source": [
    "train_generator, val_generator = get_generators(\n",
    "        lmdb_dir=lmdb_dir,\n",
    "        batch_size=batch_size,\n",
    "        episode_len=None,\n",
    "        episode_shift=None,\n",
    "        return_itr=False\n",
    ")"
   ]
  },
  {
   "cell_type": "code",
   "execution_count": 28,
   "metadata": {},
   "outputs": [
    {
     "name": "stdout",
     "output_type": "stream",
     "text": [
      "1.0\n"
     ]
    }
   ],
   "source": [
    "import numpy as np\n",
    "_instance_scale=1.0\n",
    "for data in val_generator:\n",
    "    print(np.max(data['images']))\n",
    "    break\n",
    "    #print(data.keys())"
   ]
  },
  {
   "cell_type": "code",
   "execution_count": 29,
   "metadata": {},
   "outputs": [
    {
     "data": {
      "text/plain": [
       "[128, 128, 3]"
      ]
     },
     "execution_count": 29,
     "metadata": {},
     "output_type": "execute_result"
    }
   ],
   "source": [
    "[*data['images'][0].shape]"
   ]
  },
  {
   "cell_type": "code",
   "execution_count": 30,
   "metadata": {},
   "outputs": [
    {
     "data": {
      "text/plain": [
       "dict_keys(['images', 'label'])"
      ]
     },
     "execution_count": 30,
     "metadata": {},
     "output_type": "execute_result"
    }
   ],
   "source": [
    "data.keys()"
   ]
  },
  {
   "cell_type": "markdown",
   "metadata": {},
   "source": [
    "# Callbacks definition"
   ]
  },
  {
   "cell_type": "code",
   "execution_count": 31,
   "metadata": {},
   "outputs": [],
   "source": [
    "restore_path = './saved_models/WGAN_GP'"
   ]
  },
  {
   "cell_type": "markdown",
   "metadata": {},
   "source": [
    "# Model definition"
   ]
  },
  {
   "cell_type": "code",
   "execution_count": 32,
   "metadata": {},
   "outputs": [],
   "source": [
    "from building.models import WGAN_GP"
   ]
  },
  {
   "cell_type": "code",
   "execution_count": 33,
   "metadata": {
    "scrolled": false
   },
   "outputs": [
    {
     "name": "stdout",
     "output_type": "stream",
     "text": [
      "unable to restore ... \n",
      "Model: \"Generator\"\n",
      "_________________________________________________________________\n",
      "Layer (type)                 Output Shape              Param #   \n",
      "=================================================================\n",
      "input_3 (InputLayer)         [(None, 1, 1, 128)]       0         \n",
      "_________________________________________________________________\n",
      "up_conv2d_6 (UpConv2D)       (None, 4, 4, 2048)        4194304   \n",
      "_________________________________________________________________\n",
      "batch_norm_5 (BatchNorm)     (None, 4, 4, 2048)        8192      \n",
      "_________________________________________________________________\n",
      "re_lu_5 (ReLU)               (None, 4, 4, 2048)        0         \n",
      "_________________________________________________________________\n",
<<<<<<< HEAD
      "up_conv2d (UpConv2D)         (None, 4, 4, 1024)        4194304   \n",
      "_________________________________________________________________\n",
      "batch_norm (BatchNorm)       (None, 4, 4, 1024)        4096      \n",
      "_________________________________________________________________\n",
      "re_lu (ReLU)                 (None, 4, 4, 1024)        0         \n",
      "_________________________________________________________________\n",
      "up_conv2d_1 (UpConv2D)       (None, 8, 8, 512)         8388608   \n",
      "_________________________________________________________________\n",
      "batch_norm_1 (BatchNorm)     (None, 8, 8, 512)         2048      \n",
      "_________________________________________________________________\n",
      "re_lu_1 (ReLU)               (None, 8, 8, 512)         0         \n",
      "_________________________________________________________________\n",
      "up_conv2d_2 (UpConv2D)       (None, 16, 16, 256)       2097152   \n",
      "_________________________________________________________________\n",
      "batch_norm_2 (BatchNorm)     (None, 16, 16, 256)       1024      \n",
      "_________________________________________________________________\n",
      "re_lu_2 (ReLU)               (None, 16, 16, 256)       0         \n",
      "_________________________________________________________________\n",
      "up_conv2d_3 (UpConv2D)       (None, 32, 32, 128)       524288    \n",
      "_________________________________________________________________\n",
      "batch_norm_3 (BatchNorm)     (None, 32, 32, 128)       512       \n",
      "_________________________________________________________________\n",
      "re_lu_3 (ReLU)               (None, 32, 32, 128)       0         \n",
      "_________________________________________________________________\n",
      "up_conv2d_4 (UpConv2D)       (None, 64, 64, 64)        131072    \n",
      "_________________________________________________________________\n",
      "batch_norm_4 (BatchNorm)     (None, 64, 64, 64)        256       \n",
      "_________________________________________________________________\n",
      "re_lu_4 (ReLU)               (None, 64, 64, 64)        0         \n",
      "_________________________________________________________________\n",
      "up_conv2d_5 (UpConv2D)       (None, 128, 128, 3)       3072      \n",
      "_________________________________________________________________\n",
      "activation (Activation)      (None, 128, 128, 3)       0         \n",
      "=================================================================\n",
      "Total params: 15,346,432\n",
      "Trainable params: 15,342,464\n",
      "Non-trainable params: 3,968\n",
=======
      "up_conv2d_7 (UpConv2D)       (None, 8, 8, 1024)        33554432  \n",
      "_________________________________________________________________\n",
      "batch_norm_6 (BatchNorm)     (None, 8, 8, 1024)        4096      \n",
      "_________________________________________________________________\n",
      "re_lu_6 (ReLU)               (None, 8, 8, 1024)        0         \n",
      "_________________________________________________________________\n",
      "up_conv2d_8 (UpConv2D)       (None, 16, 16, 512)       8388608   \n",
      "_________________________________________________________________\n",
      "batch_norm_7 (BatchNorm)     (None, 16, 16, 512)       2048      \n",
      "_________________________________________________________________\n",
      "re_lu_7 (ReLU)               (None, 16, 16, 512)       0         \n",
      "_________________________________________________________________\n",
      "up_conv2d_9 (UpConv2D)       (None, 32, 32, 256)       2097152   \n",
      "_________________________________________________________________\n",
      "batch_norm_8 (BatchNorm)     (None, 32, 32, 256)       1024      \n",
      "_________________________________________________________________\n",
      "re_lu_8 (ReLU)               (None, 32, 32, 256)       0         \n",
      "_________________________________________________________________\n",
      "up_conv2d_10 (UpConv2D)      (None, 64, 64, 128)       524288    \n",
      "_________________________________________________________________\n",
      "batch_norm_9 (BatchNorm)     (None, 64, 64, 128)       512       \n",
      "_________________________________________________________________\n",
      "re_lu_9 (ReLU)               (None, 64, 64, 128)       0         \n",
      "_________________________________________________________________\n",
      "up_conv2d_11 (UpConv2D)      (None, 128, 128, 3)       6144      \n",
      "_________________________________________________________________\n",
      "activation_1 (Activation)    (None, 128, 128, 3)       0         \n",
      "=================================================================\n",
      "Total params: 48,780,800\n",
      "Trainable params: 48,772,864\n",
      "Non-trainable params: 7,936\n",
>>>>>>> 2581697... test
      "_________________________________________________________________\n",
      "Model: \"Discriminator\"\n",
      "_________________________________________________________________\n",
      "Layer (type)                 Output Shape              Param #   \n",
      "=================================================================\n",
<<<<<<< HEAD
      "input_2 (InputLayer)         [(None, 128, 128, 3)]     0         \n",
      "_________________________________________________________________\n",
      "conv2d (Conv2D)              (None, 64, 64, 64)        3072      \n",
      "_________________________________________________________________\n",
      "leaky_relu (LeakyRelu)       (None, 64, 64, 64)        0         \n",
      "_________________________________________________________________\n",
      "conv2d_2 (Conv2D)            (None, 32, 32, 128)       131072    \n",
      "_________________________________________________________________\n",
      "layer_norm (LayerNorm)       (None, 32, 32, 128)       262144    \n",
      "_________________________________________________________________\n",
      "leaky_relu_1 (LeakyRelu)     (None, 32, 32, 128)       0         \n",
      "_________________________________________________________________\n",
      "conv2d_4 (Conv2D)            (None, 16, 16, 256)       524288    \n",
      "_________________________________________________________________\n",
      "layer_norm_1 (LayerNorm)     (None, 16, 16, 256)       131072    \n",
      "_________________________________________________________________\n",
      "leaky_relu_2 (LeakyRelu)     (None, 16, 16, 256)       0         \n",
      "_________________________________________________________________\n",
      "conv2d_6 (Conv2D)            (None, 8, 8, 512)         2097152   \n",
      "_________________________________________________________________\n",
      "layer_norm_2 (LayerNorm)     (None, 8, 8, 512)         65536     \n",
      "_________________________________________________________________\n",
      "leaky_relu_3 (LeakyRelu)     (None, 8, 8, 512)         0         \n",
      "_________________________________________________________________\n",
      "conv2d_8 (Conv2D)            (None, 4, 4, 1024)        8388608   \n",
      "_________________________________________________________________\n",
      "layer_norm_3 (LayerNorm)     (None, 4, 4, 1024)        32768     \n",
      "_________________________________________________________________\n",
      "leaky_relu_4 (LeakyRelu)     (None, 4, 4, 1024)        0         \n",
      "_________________________________________________________________\n",
      "conv2d_10 (Conv2D)           (None, 1, 1, 1)           16384     \n",
      "=================================================================\n",
      "Total params: 11,652,096\n",
      "Trainable params: 11,652,096\n",
=======
      "input_4 (InputLayer)         [(None, 128, 128, 3)]     0         \n",
      "_________________________________________________________________\n",
      "conv2d_12 (Conv2D)           (None, 64, 64, 128)       6144      \n",
      "_________________________________________________________________\n",
      "leaky_relu_5 (LeakyRelu)     (None, 64, 64, 128)       0         \n",
      "_________________________________________________________________\n",
      "conv2d_14 (Conv2D)           (None, 32, 32, 256)       524288    \n",
      "_________________________________________________________________\n",
      "layer_norm_4 (LayerNorm)     (None, 32, 32, 256)       524288    \n",
      "_________________________________________________________________\n",
      "leaky_relu_6 (LeakyRelu)     (None, 32, 32, 256)       0         \n",
      "_________________________________________________________________\n",
      "conv2d_16 (Conv2D)           (None, 16, 16, 512)       2097152   \n",
      "_________________________________________________________________\n",
      "layer_norm_5 (LayerNorm)     (None, 16, 16, 512)       262144    \n",
      "_________________________________________________________________\n",
      "leaky_relu_7 (LeakyRelu)     (None, 16, 16, 512)       0         \n",
      "_________________________________________________________________\n",
      "conv2d_18 (Conv2D)           (None, 8, 8, 1024)        8388608   \n",
      "_________________________________________________________________\n",
      "layer_norm_6 (LayerNorm)     (None, 8, 8, 1024)        131072    \n",
      "_________________________________________________________________\n",
      "leaky_relu_8 (LeakyRelu)     (None, 8, 8, 1024)        0         \n",
      "_________________________________________________________________\n",
      "conv2d_20 (Conv2D)           (None, 4, 4, 2048)        33554432  \n",
      "_________________________________________________________________\n",
      "layer_norm_7 (LayerNorm)     (None, 4, 4, 2048)        65536     \n",
      "_________________________________________________________________\n",
      "leaky_relu_9 (LeakyRelu)     (None, 4, 4, 2048)        0         \n",
      "_________________________________________________________________\n",
      "conv2d_22 (Conv2D)           (None, 1, 1, 1)           32768     \n",
      "=================================================================\n",
      "Total params: 45,586,432\n",
      "Trainable params: 45,586,432\n",
>>>>>>> 2581697... test
      "Non-trainable params: 0\n",
      "_________________________________________________________________\n"
     ]
    }
   ],
   "source": [
    "gan_model = WGAN_GP(\n",
    "                    model_name=dataset_name+'_WGAN_GP', \n",
    "                    save_path=restore_path, \n",
    "                    image_size=inputs_shape, \n",
    "                    z_dim=latents_dim, \n",
    "                    n_critic=5, \n",
    "                    batch_size=batch_size,\n",
    "                    g_penalty=10\n",
    "                   )"
   ]
  },
  {
   "cell_type": "code",
<<<<<<< HEAD
   "execution_count": 22,
=======
   "execution_count": 34,
>>>>>>> 2581697... test
   "metadata": {},
   "outputs": [],
   "source": [
    "try:\n",
    "    z = tf.constant(np.load(f'{restore_path}/{gan_model.model_name}_z.npy'))\n",
    "except:\n",
    "    z=None"
   ]
  },
  {
   "cell_type": "code",
<<<<<<< HEAD
   "execution_count": 23,
=======
   "execution_count": 35,
>>>>>>> 2581697... test
   "metadata": {
    "scrolled": false
   },
   "outputs": [
    {
<<<<<<< HEAD
     "data": {
      "image/png": "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\n",
      "text/plain": [
       "<Figure size 864x864 with 4 Axes>"
      ]
     },
     "metadata": {
      "needs_background": "light"
     },
     "output_type": "display_data"
    },
    {
     "name": "stdout",
     "output_type": "stream",
     "text": [
      "d_loss\n",
      "\td_loss           \t (min: -184.334, max:  -51.173, cur: -184.334)\n",
      "d_val_loss\n",
      "\td_val_loss       \t (min: -195.535, max:   19.699, cur: -195.535)\n",
      "g_loss\n",
      "\tg_loss           \t (min:   40.562, max:  122.131, cur:  122.131)\n",
      "Epoch 6/50000\n"
=======
     "name": "stdout",
     "output_type": "stream",
     "text": [
      "Epoch 1/50000\n"
>>>>>>> 2581697... test
     ]
    },
    {
     "data": {
      "application/vnd.jupyter.widget-view+json": {
<<<<<<< HEAD
       "model_id": "bef6255b5f0344c7b917d110c40a09a9",
=======
       "model_id": "66a25c02046c449aa98942f2df8e9060",
>>>>>>> 2581697... test
       "version_major": 2,
       "version_minor": 0
      },
      "text/plain": [
       "HBox(children=(HTML(value=''), FloatProgress(value=0.0, layout=Layout(flex='2'), max=5.0), HTML(value='')), la…"
      ]
     },
     "metadata": {},
     "output_type": "display_data"
    },
    {
<<<<<<< HEAD
     "ename": "KeyboardInterrupt",
     "evalue": "",
     "output_type": "error",
     "traceback": [
      "\u001b[1;31m---------------------------------------------------------------------------\u001b[0m",
      "\u001b[1;31mKeyboardInterrupt\u001b[0m                         Traceback (most recent call last)",
      "\u001b[1;32m<ipython-input-23-a93e3c8a7a6a>\u001b[0m in \u001b[0;36m<module>\u001b[1;34m\u001b[0m\n\u001b[1;32m----> 1\u001b[1;33m \u001b[0mgan_model\u001b[0m\u001b[1;33m.\u001b[0m\u001b[0mtrain\u001b[0m\u001b[1;33m(\u001b[0m\u001b[0mdataset\u001b[0m\u001b[1;33m=\u001b[0m\u001b[0mtrain_generator\u001b[0m\u001b[1;33m,\u001b[0m \u001b[0mval_dataset\u001b[0m\u001b[1;33m=\u001b[0m\u001b[0mval_generator\u001b[0m\u001b[1;33m,\u001b[0m \u001b[0mstart_epoch\u001b[0m\u001b[1;33m=\u001b[0m\u001b[1;36m0\u001b[0m\u001b[1;33m,\u001b[0m \u001b[0mepochs\u001b[0m\u001b[1;33m=\u001b[0m\u001b[0mint\u001b[0m\u001b[1;33m(\u001b[0m\u001b[1;36m5e4\u001b[0m\u001b[1;33m)\u001b[0m\u001b[1;33m,\u001b[0m \u001b[0mn_itr\u001b[0m\u001b[1;33m=\u001b[0m\u001b[1;36m5\u001b[0m\u001b[1;33m,\u001b[0m \u001b[0mz\u001b[0m\u001b[1;33m=\u001b[0m\u001b[0mz\u001b[0m\u001b[1;33m)\u001b[0m\u001b[1;33m\u001b[0m\u001b[1;33m\u001b[0m\u001b[0m\n\u001b[0m",
      "\u001b[1;32m~\\PycharmProjects\\pythonProject\\PokemonGAN\\building\\models.py\u001b[0m in \u001b[0;36mtrain\u001b[1;34m(self, dataset, val_dataset, start_epoch, epochs, n_itr, z)\u001b[0m\n\u001b[0;32m    113\u001b[0m                 \u001b[1;32mfor\u001b[0m \u001b[0m_\u001b[0m \u001b[1;32min\u001b[0m \u001b[0mrange\u001b[0m\u001b[1;33m(\u001b[0m\u001b[0mself\u001b[0m\u001b[1;33m.\u001b[0m\u001b[0mn_critic\u001b[0m\u001b[1;33m)\u001b[0m\u001b[1;33m:\u001b[0m\u001b[1;33m\u001b[0m\u001b[1;33m\u001b[0m\u001b[0m\n\u001b[0;32m    114\u001b[0m                     \u001b[0md_loss\u001b[0m \u001b[1;33m=\u001b[0m \u001b[0mself\u001b[0m\u001b[1;33m.\u001b[0m\u001b[0mtrain_d\u001b[0m\u001b[1;33m(\u001b[0m\u001b[0mbatch\u001b[0m\u001b[1;33m[\u001b[0m\u001b[1;34m'images'\u001b[0m\u001b[1;33m]\u001b[0m\u001b[1;33m)\u001b[0m\u001b[1;33m\u001b[0m\u001b[1;33m\u001b[0m\u001b[0m\n\u001b[1;32m--> 115\u001b[1;33m                     \u001b[0md_train_loss\u001b[0m\u001b[1;33m(\u001b[0m\u001b[0md_loss\u001b[0m\u001b[1;33m)\u001b[0m\u001b[1;33m\u001b[0m\u001b[1;33m\u001b[0m\u001b[0m\n\u001b[0m\u001b[0;32m    116\u001b[0m \u001b[1;33m\u001b[0m\u001b[0m\n\u001b[0;32m    117\u001b[0m                 \u001b[0mg_loss\u001b[0m \u001b[1;33m=\u001b[0m \u001b[0mself\u001b[0m\u001b[1;33m.\u001b[0m\u001b[0mtrain_g\u001b[0m\u001b[1;33m(\u001b[0m\u001b[1;33m)\u001b[0m\u001b[1;33m\u001b[0m\u001b[1;33m\u001b[0m\u001b[0m\n",
      "\u001b[1;32mC:\\ProgramData\\Anaconda3\\envs\\GPUEnv\\lib\\site-packages\\tensorflow\\python\\keras\\metrics.py\u001b[0m in \u001b[0;36m__call__\u001b[1;34m(self, *args, **kwargs)\u001b[0m\n\u001b[0;32m    228\u001b[0m \u001b[1;33m\u001b[0m\u001b[0m\n\u001b[0;32m    229\u001b[0m     \u001b[1;32mfrom\u001b[0m \u001b[0mtensorflow\u001b[0m\u001b[1;33m.\u001b[0m\u001b[0mpython\u001b[0m\u001b[1;33m.\u001b[0m\u001b[0mkeras\u001b[0m\u001b[1;33m.\u001b[0m\u001b[0mdistribute\u001b[0m \u001b[1;32mimport\u001b[0m \u001b[0mdistributed_training_utils\u001b[0m  \u001b[1;31m# pylint:disable=g-import-not-at-top\u001b[0m\u001b[1;33m\u001b[0m\u001b[1;33m\u001b[0m\u001b[0m\n\u001b[1;32m--> 230\u001b[1;33m     return distributed_training_utils.call_replica_local_fn(\n\u001b[0m\u001b[0;32m    231\u001b[0m         replica_local_fn, *args, **kwargs)\n\u001b[0;32m    232\u001b[0m \u001b[1;33m\u001b[0m\u001b[0m\n",
      "\u001b[1;32mC:\\ProgramData\\Anaconda3\\envs\\GPUEnv\\lib\\site-packages\\tensorflow\\python\\keras\\distribute\\distributed_training_utils.py\u001b[0m in \u001b[0;36mcall_replica_local_fn\u001b[1;34m(fn, *args, **kwargs)\u001b[0m\n\u001b[0;32m   1131\u001b[0m     \u001b[1;32mwith\u001b[0m \u001b[0mstrategy\u001b[0m\u001b[1;33m.\u001b[0m\u001b[0mscope\u001b[0m\u001b[1;33m(\u001b[0m\u001b[1;33m)\u001b[0m\u001b[1;33m:\u001b[0m\u001b[1;33m\u001b[0m\u001b[1;33m\u001b[0m\u001b[0m\n\u001b[0;32m   1132\u001b[0m       \u001b[1;32mreturn\u001b[0m \u001b[0mstrategy\u001b[0m\u001b[1;33m.\u001b[0m\u001b[0mextended\u001b[0m\u001b[1;33m.\u001b[0m\u001b[0mcall_for_each_replica\u001b[0m\u001b[1;33m(\u001b[0m\u001b[0mfn\u001b[0m\u001b[1;33m,\u001b[0m \u001b[0margs\u001b[0m\u001b[1;33m,\u001b[0m \u001b[0mkwargs\u001b[0m\u001b[1;33m)\u001b[0m\u001b[1;33m\u001b[0m\u001b[1;33m\u001b[0m\u001b[0m\n\u001b[1;32m-> 1133\u001b[1;33m   \u001b[1;32mreturn\u001b[0m \u001b[0mfn\u001b[0m\u001b[1;33m(\u001b[0m\u001b[1;33m*\u001b[0m\u001b[0margs\u001b[0m\u001b[1;33m,\u001b[0m \u001b[1;33m**\u001b[0m\u001b[0mkwargs\u001b[0m\u001b[1;33m)\u001b[0m\u001b[1;33m\u001b[0m\u001b[1;33m\u001b[0m\u001b[0m\n\u001b[0m\u001b[0;32m   1134\u001b[0m \u001b[1;33m\u001b[0m\u001b[0m\n\u001b[0;32m   1135\u001b[0m \u001b[1;33m\u001b[0m\u001b[0m\n",
      "\u001b[1;32mC:\\ProgramData\\Anaconda3\\envs\\GPUEnv\\lib\\site-packages\\tensorflow\\python\\keras\\metrics.py\u001b[0m in \u001b[0;36mreplica_local_fn\u001b[1;34m(*args, **kwargs)\u001b[0m\n\u001b[0;32m    209\u001b[0m     \u001b[1;32mdef\u001b[0m \u001b[0mreplica_local_fn\u001b[0m\u001b[1;33m(\u001b[0m\u001b[1;33m*\u001b[0m\u001b[0margs\u001b[0m\u001b[1;33m,\u001b[0m \u001b[1;33m**\u001b[0m\u001b[0mkwargs\u001b[0m\u001b[1;33m)\u001b[0m\u001b[1;33m:\u001b[0m\u001b[1;33m\u001b[0m\u001b[1;33m\u001b[0m\u001b[0m\n\u001b[0;32m    210\u001b[0m       \u001b[1;34m\"\"\"Updates the state of the metric in a replica-local context.\"\"\"\u001b[0m\u001b[1;33m\u001b[0m\u001b[1;33m\u001b[0m\u001b[0m\n\u001b[1;32m--> 211\u001b[1;33m       \u001b[0mupdate_op\u001b[0m \u001b[1;33m=\u001b[0m \u001b[0mself\u001b[0m\u001b[1;33m.\u001b[0m\u001b[0mupdate_state\u001b[0m\u001b[1;33m(\u001b[0m\u001b[1;33m*\u001b[0m\u001b[0margs\u001b[0m\u001b[1;33m,\u001b[0m \u001b[1;33m**\u001b[0m\u001b[0mkwargs\u001b[0m\u001b[1;33m)\u001b[0m  \u001b[1;31m# pylint: disable=not-callable\u001b[0m\u001b[1;33m\u001b[0m\u001b[1;33m\u001b[0m\u001b[0m\n\u001b[0m\u001b[0;32m    212\u001b[0m       \u001b[0mupdate_ops\u001b[0m \u001b[1;33m=\u001b[0m \u001b[1;33m[\u001b[0m\u001b[1;33m]\u001b[0m\u001b[1;33m\u001b[0m\u001b[1;33m\u001b[0m\u001b[0m\n\u001b[0;32m    213\u001b[0m       \u001b[1;32mif\u001b[0m \u001b[0mupdate_op\u001b[0m \u001b[1;32mis\u001b[0m \u001b[1;32mnot\u001b[0m \u001b[1;32mNone\u001b[0m\u001b[1;33m:\u001b[0m\u001b[1;33m\u001b[0m\u001b[1;33m\u001b[0m\u001b[0m\n",
      "\u001b[1;32mC:\\ProgramData\\Anaconda3\\envs\\GPUEnv\\lib\\site-packages\\tensorflow\\python\\keras\\utils\\metrics_utils.py\u001b[0m in \u001b[0;36mdecorated\u001b[1;34m(metric_obj, *args, **kwargs)\u001b[0m\n\u001b[0;32m     88\u001b[0m \u001b[1;33m\u001b[0m\u001b[0m\n\u001b[0;32m     89\u001b[0m     \u001b[1;32mwith\u001b[0m \u001b[0mtf_utils\u001b[0m\u001b[1;33m.\u001b[0m\u001b[0mgraph_context_for_symbolic_tensors\u001b[0m\u001b[1;33m(\u001b[0m\u001b[1;33m*\u001b[0m\u001b[0margs\u001b[0m\u001b[1;33m,\u001b[0m \u001b[1;33m**\u001b[0m\u001b[0mkwargs\u001b[0m\u001b[1;33m)\u001b[0m\u001b[1;33m:\u001b[0m\u001b[1;33m\u001b[0m\u001b[1;33m\u001b[0m\u001b[0m\n\u001b[1;32m---> 90\u001b[1;33m       \u001b[0mupdate_op\u001b[0m \u001b[1;33m=\u001b[0m \u001b[0mupdate_state_fn\u001b[0m\u001b[1;33m(\u001b[0m\u001b[1;33m*\u001b[0m\u001b[0margs\u001b[0m\u001b[1;33m,\u001b[0m \u001b[1;33m**\u001b[0m\u001b[0mkwargs\u001b[0m\u001b[1;33m)\u001b[0m\u001b[1;33m\u001b[0m\u001b[1;33m\u001b[0m\u001b[0m\n\u001b[0m\u001b[0;32m     91\u001b[0m     \u001b[1;32mif\u001b[0m \u001b[0mupdate_op\u001b[0m \u001b[1;32mis\u001b[0m \u001b[1;32mnot\u001b[0m \u001b[1;32mNone\u001b[0m\u001b[1;33m:\u001b[0m  \u001b[1;31m# update_op will be None in eager execution.\u001b[0m\u001b[1;33m\u001b[0m\u001b[1;33m\u001b[0m\u001b[0m\n\u001b[0;32m     92\u001b[0m       \u001b[0mmetric_obj\u001b[0m\u001b[1;33m.\u001b[0m\u001b[0madd_update\u001b[0m\u001b[1;33m(\u001b[0m\u001b[0mupdate_op\u001b[0m\u001b[1;33m)\u001b[0m\u001b[1;33m\u001b[0m\u001b[1;33m\u001b[0m\u001b[0m\n",
      "\u001b[1;32mC:\\ProgramData\\Anaconda3\\envs\\GPUEnv\\lib\\site-packages\\tensorflow\\python\\keras\\metrics.py\u001b[0m in \u001b[0;36mupdate_state_fn\u001b[1;34m(*args, **kwargs)\u001b[0m\n\u001b[0;32m    174\u001b[0m         \u001b[0mcontrol_status\u001b[0m \u001b[1;33m=\u001b[0m \u001b[0mag_ctx\u001b[0m\u001b[1;33m.\u001b[0m\u001b[0mcontrol_status_ctx\u001b[0m\u001b[1;33m(\u001b[0m\u001b[1;33m)\u001b[0m\u001b[1;33m\u001b[0m\u001b[1;33m\u001b[0m\u001b[0m\n\u001b[0;32m    175\u001b[0m         \u001b[0mag_update_state\u001b[0m \u001b[1;33m=\u001b[0m \u001b[0mautograph\u001b[0m\u001b[1;33m.\u001b[0m\u001b[0mtf_convert\u001b[0m\u001b[1;33m(\u001b[0m\u001b[0mobj_update_state\u001b[0m\u001b[1;33m,\u001b[0m \u001b[0mcontrol_status\u001b[0m\u001b[1;33m)\u001b[0m\u001b[1;33m\u001b[0m\u001b[1;33m\u001b[0m\u001b[0m\n\u001b[1;32m--> 176\u001b[1;33m         \u001b[1;32mreturn\u001b[0m \u001b[0mag_update_state\u001b[0m\u001b[1;33m(\u001b[0m\u001b[1;33m*\u001b[0m\u001b[0margs\u001b[0m\u001b[1;33m,\u001b[0m \u001b[1;33m**\u001b[0m\u001b[0mkwargs\u001b[0m\u001b[1;33m)\u001b[0m\u001b[1;33m\u001b[0m\u001b[1;33m\u001b[0m\u001b[0m\n\u001b[0m\u001b[0;32m    177\u001b[0m     \u001b[1;32melse\u001b[0m\u001b[1;33m:\u001b[0m\u001b[1;33m\u001b[0m\u001b[1;33m\u001b[0m\u001b[0m\n\u001b[0;32m    178\u001b[0m       \u001b[1;32mif\u001b[0m \u001b[0misinstance\u001b[0m\u001b[1;33m(\u001b[0m\u001b[0mobj\u001b[0m\u001b[1;33m.\u001b[0m\u001b[0mupdate_state\u001b[0m\u001b[1;33m,\u001b[0m \u001b[0mdef_function\u001b[0m\u001b[1;33m.\u001b[0m\u001b[0mFunction\u001b[0m\u001b[1;33m)\u001b[0m\u001b[1;33m:\u001b[0m\u001b[1;33m\u001b[0m\u001b[1;33m\u001b[0m\u001b[0m\n",
      "\u001b[1;32mC:\\ProgramData\\Anaconda3\\envs\\GPUEnv\\lib\\site-packages\\tensorflow\\python\\autograph\\impl\\api.py\u001b[0m in \u001b[0;36mwrapper\u001b[1;34m(*args, **kwargs)\u001b[0m\n\u001b[0;32m    253\u001b[0m       \u001b[1;32mtry\u001b[0m\u001b[1;33m:\u001b[0m\u001b[1;33m\u001b[0m\u001b[1;33m\u001b[0m\u001b[0m\n\u001b[0;32m    254\u001b[0m         \u001b[1;32mwith\u001b[0m \u001b[0mconversion_ctx\u001b[0m\u001b[1;33m:\u001b[0m\u001b[1;33m\u001b[0m\u001b[1;33m\u001b[0m\u001b[0m\n\u001b[1;32m--> 255\u001b[1;33m           \u001b[1;32mreturn\u001b[0m \u001b[0mconverted_call\u001b[0m\u001b[1;33m(\u001b[0m\u001b[0mf\u001b[0m\u001b[1;33m,\u001b[0m \u001b[0margs\u001b[0m\u001b[1;33m,\u001b[0m \u001b[0mkwargs\u001b[0m\u001b[1;33m,\u001b[0m \u001b[0moptions\u001b[0m\u001b[1;33m=\u001b[0m\u001b[0moptions\u001b[0m\u001b[1;33m)\u001b[0m\u001b[1;33m\u001b[0m\u001b[1;33m\u001b[0m\u001b[0m\n\u001b[0m\u001b[0;32m    256\u001b[0m       \u001b[1;32mexcept\u001b[0m \u001b[0mException\u001b[0m \u001b[1;32mas\u001b[0m \u001b[0me\u001b[0m\u001b[1;33m:\u001b[0m  \u001b[1;31m# pylint:disable=broad-except\u001b[0m\u001b[1;33m\u001b[0m\u001b[1;33m\u001b[0m\u001b[0m\n\u001b[0;32m    257\u001b[0m         \u001b[1;32mif\u001b[0m \u001b[0mhasattr\u001b[0m\u001b[1;33m(\u001b[0m\u001b[0me\u001b[0m\u001b[1;33m,\u001b[0m \u001b[1;34m'ag_error_metadata'\u001b[0m\u001b[1;33m)\u001b[0m\u001b[1;33m:\u001b[0m\u001b[1;33m\u001b[0m\u001b[1;33m\u001b[0m\u001b[0m\n",
      "\u001b[1;32mC:\\ProgramData\\Anaconda3\\envs\\GPUEnv\\lib\\site-packages\\tensorflow\\python\\autograph\\impl\\api.py\u001b[0m in \u001b[0;36mconverted_call\u001b[1;34m(f, args, kwargs, caller_fn_scope, options)\u001b[0m\n\u001b[0;32m    455\u001b[0m   \u001b[1;32mif\u001b[0m \u001b[0mconversion\u001b[0m\u001b[1;33m.\u001b[0m\u001b[0mis_in_whitelist_cache\u001b[0m\u001b[1;33m(\u001b[0m\u001b[0mf\u001b[0m\u001b[1;33m,\u001b[0m \u001b[0moptions\u001b[0m\u001b[1;33m)\u001b[0m\u001b[1;33m:\u001b[0m\u001b[1;33m\u001b[0m\u001b[1;33m\u001b[0m\u001b[0m\n\u001b[0;32m    456\u001b[0m     \u001b[0mlogging\u001b[0m\u001b[1;33m.\u001b[0m\u001b[0mlog\u001b[0m\u001b[1;33m(\u001b[0m\u001b[1;36m2\u001b[0m\u001b[1;33m,\u001b[0m \u001b[1;34m'Whitelisted %s: from cache'\u001b[0m\u001b[1;33m,\u001b[0m \u001b[0mf\u001b[0m\u001b[1;33m)\u001b[0m\u001b[1;33m\u001b[0m\u001b[1;33m\u001b[0m\u001b[0m\n\u001b[1;32m--> 457\u001b[1;33m     \u001b[1;32mreturn\u001b[0m \u001b[0m_call_unconverted\u001b[0m\u001b[1;33m(\u001b[0m\u001b[0mf\u001b[0m\u001b[1;33m,\u001b[0m \u001b[0margs\u001b[0m\u001b[1;33m,\u001b[0m \u001b[0mkwargs\u001b[0m\u001b[1;33m,\u001b[0m \u001b[0moptions\u001b[0m\u001b[1;33m,\u001b[0m \u001b[1;32mFalse\u001b[0m\u001b[1;33m)\u001b[0m\u001b[1;33m\u001b[0m\u001b[1;33m\u001b[0m\u001b[0m\n\u001b[0m\u001b[0;32m    458\u001b[0m \u001b[1;33m\u001b[0m\u001b[0m\n\u001b[0;32m    459\u001b[0m   \u001b[1;32mif\u001b[0m \u001b[0mag_ctx\u001b[0m\u001b[1;33m.\u001b[0m\u001b[0mcontrol_status_ctx\u001b[0m\u001b[1;33m(\u001b[0m\u001b[1;33m)\u001b[0m\u001b[1;33m.\u001b[0m\u001b[0mstatus\u001b[0m \u001b[1;33m==\u001b[0m \u001b[0mag_ctx\u001b[0m\u001b[1;33m.\u001b[0m\u001b[0mStatus\u001b[0m\u001b[1;33m.\u001b[0m\u001b[0mDISABLED\u001b[0m\u001b[1;33m:\u001b[0m\u001b[1;33m\u001b[0m\u001b[1;33m\u001b[0m\u001b[0m\n",
      "\u001b[1;32mC:\\ProgramData\\Anaconda3\\envs\\GPUEnv\\lib\\site-packages\\tensorflow\\python\\autograph\\impl\\api.py\u001b[0m in \u001b[0;36m_call_unconverted\u001b[1;34m(f, args, kwargs, options, update_cache)\u001b[0m\n\u001b[0;32m    337\u001b[0m \u001b[1;33m\u001b[0m\u001b[0m\n\u001b[0;32m    338\u001b[0m   \u001b[1;32mif\u001b[0m \u001b[0mkwargs\u001b[0m \u001b[1;32mis\u001b[0m \u001b[1;32mnot\u001b[0m \u001b[1;32mNone\u001b[0m\u001b[1;33m:\u001b[0m\u001b[1;33m\u001b[0m\u001b[1;33m\u001b[0m\u001b[0m\n\u001b[1;32m--> 339\u001b[1;33m     \u001b[1;32mreturn\u001b[0m \u001b[0mf\u001b[0m\u001b[1;33m(\u001b[0m\u001b[1;33m*\u001b[0m\u001b[0margs\u001b[0m\u001b[1;33m,\u001b[0m \u001b[1;33m**\u001b[0m\u001b[0mkwargs\u001b[0m\u001b[1;33m)\u001b[0m\u001b[1;33m\u001b[0m\u001b[1;33m\u001b[0m\u001b[0m\n\u001b[0m\u001b[0;32m    340\u001b[0m   \u001b[1;32mreturn\u001b[0m \u001b[0mf\u001b[0m\u001b[1;33m(\u001b[0m\u001b[1;33m*\u001b[0m\u001b[0margs\u001b[0m\u001b[1;33m)\u001b[0m\u001b[1;33m\u001b[0m\u001b[1;33m\u001b[0m\u001b[0m\n\u001b[0;32m    341\u001b[0m \u001b[1;33m\u001b[0m\u001b[0m\n",
      "\u001b[1;32mC:\\ProgramData\\Anaconda3\\envs\\GPUEnv\\lib\\site-packages\\tensorflow\\python\\keras\\metrics.py\u001b[0m in \u001b[0;36mupdate_state\u001b[1;34m(self, values, sample_weight)\u001b[0m\n\u001b[0;32m    382\u001b[0m     \u001b[1;32melif\u001b[0m \u001b[0mself\u001b[0m\u001b[1;33m.\u001b[0m\u001b[0mreduction\u001b[0m \u001b[1;33m==\u001b[0m \u001b[0mmetrics_utils\u001b[0m\u001b[1;33m.\u001b[0m\u001b[0mReduction\u001b[0m\u001b[1;33m.\u001b[0m\u001b[0mWEIGHTED_MEAN\u001b[0m\u001b[1;33m:\u001b[0m\u001b[1;33m\u001b[0m\u001b[1;33m\u001b[0m\u001b[0m\n\u001b[0;32m    383\u001b[0m       \u001b[1;32mif\u001b[0m \u001b[0msample_weight\u001b[0m \u001b[1;32mis\u001b[0m \u001b[1;32mNone\u001b[0m\u001b[1;33m:\u001b[0m\u001b[1;33m\u001b[0m\u001b[1;33m\u001b[0m\u001b[0m\n\u001b[1;32m--> 384\u001b[1;33m         \u001b[0mnum_values\u001b[0m \u001b[1;33m=\u001b[0m \u001b[0mmath_ops\u001b[0m\u001b[1;33m.\u001b[0m\u001b[0mcast\u001b[0m\u001b[1;33m(\u001b[0m\u001b[0marray_ops\u001b[0m\u001b[1;33m.\u001b[0m\u001b[0msize\u001b[0m\u001b[1;33m(\u001b[0m\u001b[0mvalues\u001b[0m\u001b[1;33m)\u001b[0m\u001b[1;33m,\u001b[0m \u001b[0mself\u001b[0m\u001b[1;33m.\u001b[0m\u001b[0m_dtype\u001b[0m\u001b[1;33m)\u001b[0m\u001b[1;33m\u001b[0m\u001b[1;33m\u001b[0m\u001b[0m\n\u001b[0m\u001b[0;32m    385\u001b[0m       \u001b[1;32melse\u001b[0m\u001b[1;33m:\u001b[0m\u001b[1;33m\u001b[0m\u001b[1;33m\u001b[0m\u001b[0m\n\u001b[0;32m    386\u001b[0m         \u001b[0mnum_values\u001b[0m \u001b[1;33m=\u001b[0m \u001b[0mmath_ops\u001b[0m\u001b[1;33m.\u001b[0m\u001b[0mreduce_sum\u001b[0m\u001b[1;33m(\u001b[0m\u001b[0msample_weight\u001b[0m\u001b[1;33m)\u001b[0m\u001b[1;33m\u001b[0m\u001b[1;33m\u001b[0m\u001b[0m\n",
      "\u001b[1;32mC:\\ProgramData\\Anaconda3\\envs\\GPUEnv\\lib\\site-packages\\tensorflow\\python\\util\\dispatch.py\u001b[0m in \u001b[0;36mwrapper\u001b[1;34m(*args, **kwargs)\u001b[0m\n\u001b[0;32m    199\u001b[0m     \u001b[1;34m\"\"\"Call target, and fall back on dispatchers if there is a TypeError.\"\"\"\u001b[0m\u001b[1;33m\u001b[0m\u001b[1;33m\u001b[0m\u001b[0m\n\u001b[0;32m    200\u001b[0m     \u001b[1;32mtry\u001b[0m\u001b[1;33m:\u001b[0m\u001b[1;33m\u001b[0m\u001b[1;33m\u001b[0m\u001b[0m\n\u001b[1;32m--> 201\u001b[1;33m       \u001b[1;32mreturn\u001b[0m \u001b[0mtarget\u001b[0m\u001b[1;33m(\u001b[0m\u001b[1;33m*\u001b[0m\u001b[0margs\u001b[0m\u001b[1;33m,\u001b[0m \u001b[1;33m**\u001b[0m\u001b[0mkwargs\u001b[0m\u001b[1;33m)\u001b[0m\u001b[1;33m\u001b[0m\u001b[1;33m\u001b[0m\u001b[0m\n\u001b[0m\u001b[0;32m    202\u001b[0m     \u001b[1;32mexcept\u001b[0m \u001b[1;33m(\u001b[0m\u001b[0mTypeError\u001b[0m\u001b[1;33m,\u001b[0m \u001b[0mValueError\u001b[0m\u001b[1;33m)\u001b[0m\u001b[1;33m:\u001b[0m\u001b[1;33m\u001b[0m\u001b[1;33m\u001b[0m\u001b[0m\n\u001b[0;32m    203\u001b[0m       \u001b[1;31m# Note: convert_to_eager_tensor currently raises a ValueError, not a\u001b[0m\u001b[1;33m\u001b[0m\u001b[1;33m\u001b[0m\u001b[1;33m\u001b[0m\u001b[0m\n",
      "\u001b[1;32mC:\\ProgramData\\Anaconda3\\envs\\GPUEnv\\lib\\site-packages\\tensorflow\\python\\ops\\math_ops.py\u001b[0m in \u001b[0;36mcast\u001b[1;34m(x, dtype, name)\u001b[0m\n\u001b[0;32m    920\u001b[0m       \u001b[0mx\u001b[0m \u001b[1;33m=\u001b[0m \u001b[0mops\u001b[0m\u001b[1;33m.\u001b[0m\u001b[0mconvert_to_tensor\u001b[0m\u001b[1;33m(\u001b[0m\u001b[0mx\u001b[0m\u001b[1;33m,\u001b[0m \u001b[0mname\u001b[0m\u001b[1;33m=\u001b[0m\u001b[1;34m\"x\"\u001b[0m\u001b[1;33m)\u001b[0m\u001b[1;33m\u001b[0m\u001b[1;33m\u001b[0m\u001b[0m\n\u001b[0;32m    921\u001b[0m       \u001b[1;32mif\u001b[0m \u001b[0mx\u001b[0m\u001b[1;33m.\u001b[0m\u001b[0mdtype\u001b[0m\u001b[1;33m.\u001b[0m\u001b[0mbase_dtype\u001b[0m \u001b[1;33m!=\u001b[0m \u001b[0mbase_type\u001b[0m\u001b[1;33m:\u001b[0m\u001b[1;33m\u001b[0m\u001b[1;33m\u001b[0m\u001b[0m\n\u001b[1;32m--> 922\u001b[1;33m         \u001b[0mx\u001b[0m \u001b[1;33m=\u001b[0m \u001b[0mgen_math_ops\u001b[0m\u001b[1;33m.\u001b[0m\u001b[0mcast\u001b[0m\u001b[1;33m(\u001b[0m\u001b[0mx\u001b[0m\u001b[1;33m,\u001b[0m \u001b[0mbase_type\u001b[0m\u001b[1;33m,\u001b[0m \u001b[0mname\u001b[0m\u001b[1;33m=\u001b[0m\u001b[0mname\u001b[0m\u001b[1;33m)\u001b[0m\u001b[1;33m\u001b[0m\u001b[1;33m\u001b[0m\u001b[0m\n\u001b[0m\u001b[0;32m    923\u001b[0m     \u001b[1;32mif\u001b[0m \u001b[0mx\u001b[0m\u001b[1;33m.\u001b[0m\u001b[0mdtype\u001b[0m\u001b[1;33m.\u001b[0m\u001b[0mis_complex\u001b[0m \u001b[1;32mand\u001b[0m \u001b[0mbase_type\u001b[0m\u001b[1;33m.\u001b[0m\u001b[0mis_floating\u001b[0m\u001b[1;33m:\u001b[0m\u001b[1;33m\u001b[0m\u001b[1;33m\u001b[0m\u001b[0m\n\u001b[0;32m    924\u001b[0m       \u001b[0mlogging\u001b[0m\u001b[1;33m.\u001b[0m\u001b[0mwarn\u001b[0m\u001b[1;33m(\u001b[0m\u001b[1;34m\"Casting complex to real discards imaginary part.\"\u001b[0m\u001b[1;33m)\u001b[0m\u001b[1;33m\u001b[0m\u001b[1;33m\u001b[0m\u001b[0m\n",
      "\u001b[1;32mC:\\ProgramData\\Anaconda3\\envs\\GPUEnv\\lib\\site-packages\\tensorflow\\python\\ops\\gen_math_ops.py\u001b[0m in \u001b[0;36mcast\u001b[1;34m(x, DstT, Truncate, name)\u001b[0m\n\u001b[0;32m   1851\u001b[0m   \u001b[1;32mif\u001b[0m \u001b[0mtld\u001b[0m\u001b[1;33m.\u001b[0m\u001b[0mis_eager\u001b[0m\u001b[1;33m:\u001b[0m\u001b[1;33m\u001b[0m\u001b[1;33m\u001b[0m\u001b[0m\n\u001b[0;32m   1852\u001b[0m     \u001b[1;32mtry\u001b[0m\u001b[1;33m:\u001b[0m\u001b[1;33m\u001b[0m\u001b[1;33m\u001b[0m\u001b[0m\n\u001b[1;32m-> 1853\u001b[1;33m       _result = pywrap_tfe.TFE_Py_FastPathExecute(\n\u001b[0m\u001b[0;32m   1854\u001b[0m         \u001b[0m_ctx\u001b[0m\u001b[1;33m.\u001b[0m\u001b[0m_context_handle\u001b[0m\u001b[1;33m,\u001b[0m \u001b[0mtld\u001b[0m\u001b[1;33m.\u001b[0m\u001b[0mdevice_name\u001b[0m\u001b[1;33m,\u001b[0m \u001b[1;34m\"Cast\"\u001b[0m\u001b[1;33m,\u001b[0m \u001b[0mname\u001b[0m\u001b[1;33m,\u001b[0m \u001b[0mtld\u001b[0m\u001b[1;33m.\u001b[0m\u001b[0mop_callbacks\u001b[0m\u001b[1;33m,\u001b[0m\u001b[1;33m\u001b[0m\u001b[1;33m\u001b[0m\u001b[0m\n\u001b[0;32m   1855\u001b[0m         x, \"DstT\", DstT, \"Truncate\", Truncate)\n",
      "\u001b[1;31mKeyboardInterrupt\u001b[0m: "
=======
     "ename": "ResourceExhaustedError",
     "evalue": " OOM when allocating tensor with shape[4,4,1024,2048] and type float on /job:localhost/replica:0/task:0/device:GPU:0 by allocator GPU_0_bfc\n\t [[node gradient_tape/Discriminator/conv2d_20/conv2d_21/Conv2D_1/Conv2DBackpropFilter (defined at C:\\Users\\Kriple\\PycharmProjects\\pythonProject\\PokemonGAN\\building\\models.py:192) ]]\nHint: If you want to see a list of allocated tensors when OOM happens, add report_tensor_allocations_upon_oom to RunOptions for current allocation info.\n [Op:__inference_train_d_12205]\n\nErrors may have originated from an input operation.\nInput Source operations connected to node gradient_tape/Discriminator/conv2d_20/conv2d_21/Conv2D_1/Conv2DBackpropFilter:\n Discriminator/leaky_relu_8/leaky_re_lu_8/LeakyRelu_1 (defined at C:\\Users\\Kriple\\PycharmProjects\\pythonProject\\PokemonGAN\\building\\ops.py:87)\n\nFunction call stack:\ntrain_d\n",
     "output_type": "error",
     "traceback": [
      "\u001b[1;31m---------------------------------------------------------------------------\u001b[0m",
      "\u001b[1;31mResourceExhaustedError\u001b[0m                    Traceback (most recent call last)",
      "\u001b[1;32m<ipython-input-35-a93e3c8a7a6a>\u001b[0m in \u001b[0;36m<module>\u001b[1;34m\u001b[0m\n\u001b[1;32m----> 1\u001b[1;33m \u001b[0mgan_model\u001b[0m\u001b[1;33m.\u001b[0m\u001b[0mtrain\u001b[0m\u001b[1;33m(\u001b[0m\u001b[0mdataset\u001b[0m\u001b[1;33m=\u001b[0m\u001b[0mtrain_generator\u001b[0m\u001b[1;33m,\u001b[0m \u001b[0mval_dataset\u001b[0m\u001b[1;33m=\u001b[0m\u001b[0mval_generator\u001b[0m\u001b[1;33m,\u001b[0m \u001b[0mstart_epoch\u001b[0m\u001b[1;33m=\u001b[0m\u001b[1;36m0\u001b[0m\u001b[1;33m,\u001b[0m \u001b[0mepochs\u001b[0m\u001b[1;33m=\u001b[0m\u001b[0mint\u001b[0m\u001b[1;33m(\u001b[0m\u001b[1;36m5e4\u001b[0m\u001b[1;33m)\u001b[0m\u001b[1;33m,\u001b[0m \u001b[0mn_itr\u001b[0m\u001b[1;33m=\u001b[0m\u001b[1;36m5\u001b[0m\u001b[1;33m,\u001b[0m \u001b[0mz\u001b[0m\u001b[1;33m=\u001b[0m\u001b[0mz\u001b[0m\u001b[1;33m)\u001b[0m\u001b[1;33m\u001b[0m\u001b[1;33m\u001b[0m\u001b[0m\n\u001b[0m",
      "\u001b[1;32m~\\PycharmProjects\\pythonProject\\PokemonGAN\\building\\models.py\u001b[0m in \u001b[0;36mtrain\u001b[1;34m(self, dataset, val_dataset, start_epoch, epochs, n_itr, z)\u001b[0m\n\u001b[0;32m    112\u001b[0m \u001b[1;33m\u001b[0m\u001b[0m\n\u001b[0;32m    113\u001b[0m                 \u001b[1;32mfor\u001b[0m \u001b[0m_\u001b[0m \u001b[1;32min\u001b[0m \u001b[0mrange\u001b[0m\u001b[1;33m(\u001b[0m\u001b[0mself\u001b[0m\u001b[1;33m.\u001b[0m\u001b[0mn_critic\u001b[0m\u001b[1;33m)\u001b[0m\u001b[1;33m:\u001b[0m\u001b[1;33m\u001b[0m\u001b[1;33m\u001b[0m\u001b[0m\n\u001b[1;32m--> 114\u001b[1;33m                     \u001b[0md_loss\u001b[0m \u001b[1;33m=\u001b[0m \u001b[0mself\u001b[0m\u001b[1;33m.\u001b[0m\u001b[0mtrain_d\u001b[0m\u001b[1;33m(\u001b[0m\u001b[0mbatch\u001b[0m\u001b[1;33m[\u001b[0m\u001b[1;34m'images'\u001b[0m\u001b[1;33m]\u001b[0m\u001b[1;33m)\u001b[0m\u001b[1;33m\u001b[0m\u001b[1;33m\u001b[0m\u001b[0m\n\u001b[0m\u001b[0;32m    115\u001b[0m                     \u001b[0md_train_loss\u001b[0m\u001b[1;33m(\u001b[0m\u001b[0md_loss\u001b[0m\u001b[1;33m)\u001b[0m\u001b[1;33m\u001b[0m\u001b[1;33m\u001b[0m\u001b[0m\n\u001b[0;32m    116\u001b[0m \u001b[1;33m\u001b[0m\u001b[0m\n",
      "\u001b[1;32mC:\\ProgramData\\Anaconda3\\envs\\GPUEnv\\lib\\site-packages\\tensorflow\\python\\eager\\def_function.py\u001b[0m in \u001b[0;36m__call__\u001b[1;34m(self, *args, **kwds)\u001b[0m\n\u001b[0;32m    778\u001b[0m       \u001b[1;32melse\u001b[0m\u001b[1;33m:\u001b[0m\u001b[1;33m\u001b[0m\u001b[1;33m\u001b[0m\u001b[0m\n\u001b[0;32m    779\u001b[0m         \u001b[0mcompiler\u001b[0m \u001b[1;33m=\u001b[0m \u001b[1;34m\"nonXla\"\u001b[0m\u001b[1;33m\u001b[0m\u001b[1;33m\u001b[0m\u001b[0m\n\u001b[1;32m--> 780\u001b[1;33m         \u001b[0mresult\u001b[0m \u001b[1;33m=\u001b[0m \u001b[0mself\u001b[0m\u001b[1;33m.\u001b[0m\u001b[0m_call\u001b[0m\u001b[1;33m(\u001b[0m\u001b[1;33m*\u001b[0m\u001b[0margs\u001b[0m\u001b[1;33m,\u001b[0m \u001b[1;33m**\u001b[0m\u001b[0mkwds\u001b[0m\u001b[1;33m)\u001b[0m\u001b[1;33m\u001b[0m\u001b[1;33m\u001b[0m\u001b[0m\n\u001b[0m\u001b[0;32m    781\u001b[0m \u001b[1;33m\u001b[0m\u001b[0m\n\u001b[0;32m    782\u001b[0m       \u001b[0mnew_tracing_count\u001b[0m \u001b[1;33m=\u001b[0m \u001b[0mself\u001b[0m\u001b[1;33m.\u001b[0m\u001b[0m_get_tracing_count\u001b[0m\u001b[1;33m(\u001b[0m\u001b[1;33m)\u001b[0m\u001b[1;33m\u001b[0m\u001b[1;33m\u001b[0m\u001b[0m\n",
      "\u001b[1;32mC:\\ProgramData\\Anaconda3\\envs\\GPUEnv\\lib\\site-packages\\tensorflow\\python\\eager\\def_function.py\u001b[0m in \u001b[0;36m_call\u001b[1;34m(self, *args, **kwds)\u001b[0m\n\u001b[0;32m    838\u001b[0m         \u001b[1;31m# Lifting succeeded, so variables are initialized and we can run the\u001b[0m\u001b[1;33m\u001b[0m\u001b[1;33m\u001b[0m\u001b[1;33m\u001b[0m\u001b[0m\n\u001b[0;32m    839\u001b[0m         \u001b[1;31m# stateless function.\u001b[0m\u001b[1;33m\u001b[0m\u001b[1;33m\u001b[0m\u001b[1;33m\u001b[0m\u001b[0m\n\u001b[1;32m--> 840\u001b[1;33m         \u001b[1;32mreturn\u001b[0m \u001b[0mself\u001b[0m\u001b[1;33m.\u001b[0m\u001b[0m_stateless_fn\u001b[0m\u001b[1;33m(\u001b[0m\u001b[1;33m*\u001b[0m\u001b[0margs\u001b[0m\u001b[1;33m,\u001b[0m \u001b[1;33m**\u001b[0m\u001b[0mkwds\u001b[0m\u001b[1;33m)\u001b[0m\u001b[1;33m\u001b[0m\u001b[1;33m\u001b[0m\u001b[0m\n\u001b[0m\u001b[0;32m    841\u001b[0m     \u001b[1;32melse\u001b[0m\u001b[1;33m:\u001b[0m\u001b[1;33m\u001b[0m\u001b[1;33m\u001b[0m\u001b[0m\n\u001b[0;32m    842\u001b[0m       \u001b[0mcanon_args\u001b[0m\u001b[1;33m,\u001b[0m \u001b[0mcanon_kwds\u001b[0m \u001b[1;33m=\u001b[0m\u001b[0;31m \u001b[0m\u001b[0;31m\\\u001b[0m\u001b[1;33m\u001b[0m\u001b[1;33m\u001b[0m\u001b[0m\n",
      "\u001b[1;32mC:\\ProgramData\\Anaconda3\\envs\\GPUEnv\\lib\\site-packages\\tensorflow\\python\\eager\\function.py\u001b[0m in \u001b[0;36m__call__\u001b[1;34m(self, *args, **kwargs)\u001b[0m\n\u001b[0;32m   2827\u001b[0m     \u001b[1;32mwith\u001b[0m \u001b[0mself\u001b[0m\u001b[1;33m.\u001b[0m\u001b[0m_lock\u001b[0m\u001b[1;33m:\u001b[0m\u001b[1;33m\u001b[0m\u001b[1;33m\u001b[0m\u001b[0m\n\u001b[0;32m   2828\u001b[0m       \u001b[0mgraph_function\u001b[0m\u001b[1;33m,\u001b[0m \u001b[0margs\u001b[0m\u001b[1;33m,\u001b[0m \u001b[0mkwargs\u001b[0m \u001b[1;33m=\u001b[0m \u001b[0mself\u001b[0m\u001b[1;33m.\u001b[0m\u001b[0m_maybe_define_function\u001b[0m\u001b[1;33m(\u001b[0m\u001b[0margs\u001b[0m\u001b[1;33m,\u001b[0m \u001b[0mkwargs\u001b[0m\u001b[1;33m)\u001b[0m\u001b[1;33m\u001b[0m\u001b[1;33m\u001b[0m\u001b[0m\n\u001b[1;32m-> 2829\u001b[1;33m     \u001b[1;32mreturn\u001b[0m \u001b[0mgraph_function\u001b[0m\u001b[1;33m.\u001b[0m\u001b[0m_filtered_call\u001b[0m\u001b[1;33m(\u001b[0m\u001b[0margs\u001b[0m\u001b[1;33m,\u001b[0m \u001b[0mkwargs\u001b[0m\u001b[1;33m)\u001b[0m  \u001b[1;31m# pylint: disable=protected-access\u001b[0m\u001b[1;33m\u001b[0m\u001b[1;33m\u001b[0m\u001b[0m\n\u001b[0m\u001b[0;32m   2830\u001b[0m \u001b[1;33m\u001b[0m\u001b[0m\n\u001b[0;32m   2831\u001b[0m   \u001b[1;33m@\u001b[0m\u001b[0mproperty\u001b[0m\u001b[1;33m\u001b[0m\u001b[1;33m\u001b[0m\u001b[0m\n",
      "\u001b[1;32mC:\\ProgramData\\Anaconda3\\envs\\GPUEnv\\lib\\site-packages\\tensorflow\\python\\eager\\function.py\u001b[0m in \u001b[0;36m_filtered_call\u001b[1;34m(self, args, kwargs, cancellation_manager)\u001b[0m\n\u001b[0;32m   1841\u001b[0m       \u001b[0;31m`\u001b[0m\u001b[0margs\u001b[0m\u001b[0;31m`\u001b[0m \u001b[1;32mand\u001b[0m\u001b[0;31m \u001b[0m\u001b[0;31m`\u001b[0m\u001b[0mkwargs\u001b[0m\u001b[0;31m`\u001b[0m\u001b[1;33m.\u001b[0m\u001b[1;33m\u001b[0m\u001b[1;33m\u001b[0m\u001b[0m\n\u001b[0;32m   1842\u001b[0m     \"\"\"\n\u001b[1;32m-> 1843\u001b[1;33m     return self._call_flat(\n\u001b[0m\u001b[0;32m   1844\u001b[0m         [t for t in nest.flatten((args, kwargs), expand_composites=True)\n\u001b[0;32m   1845\u001b[0m          if isinstance(t, (ops.Tensor,\n",
      "\u001b[1;32mC:\\ProgramData\\Anaconda3\\envs\\GPUEnv\\lib\\site-packages\\tensorflow\\python\\eager\\function.py\u001b[0m in \u001b[0;36m_call_flat\u001b[1;34m(self, args, captured_inputs, cancellation_manager)\u001b[0m\n\u001b[0;32m   1921\u001b[0m         and executing_eagerly):\n\u001b[0;32m   1922\u001b[0m       \u001b[1;31m# No tape is watching; skip to running the function.\u001b[0m\u001b[1;33m\u001b[0m\u001b[1;33m\u001b[0m\u001b[1;33m\u001b[0m\u001b[0m\n\u001b[1;32m-> 1923\u001b[1;33m       return self._build_call_outputs(self._inference_function.call(\n\u001b[0m\u001b[0;32m   1924\u001b[0m           ctx, args, cancellation_manager=cancellation_manager))\n\u001b[0;32m   1925\u001b[0m     forward_backward = self._select_forward_and_backward_functions(\n",
      "\u001b[1;32mC:\\ProgramData\\Anaconda3\\envs\\GPUEnv\\lib\\site-packages\\tensorflow\\python\\eager\\function.py\u001b[0m in \u001b[0;36mcall\u001b[1;34m(self, ctx, args, cancellation_manager)\u001b[0m\n\u001b[0;32m    543\u001b[0m       \u001b[1;32mwith\u001b[0m \u001b[0m_InterpolateFunctionError\u001b[0m\u001b[1;33m(\u001b[0m\u001b[0mself\u001b[0m\u001b[1;33m)\u001b[0m\u001b[1;33m:\u001b[0m\u001b[1;33m\u001b[0m\u001b[1;33m\u001b[0m\u001b[0m\n\u001b[0;32m    544\u001b[0m         \u001b[1;32mif\u001b[0m \u001b[0mcancellation_manager\u001b[0m \u001b[1;32mis\u001b[0m \u001b[1;32mNone\u001b[0m\u001b[1;33m:\u001b[0m\u001b[1;33m\u001b[0m\u001b[1;33m\u001b[0m\u001b[0m\n\u001b[1;32m--> 545\u001b[1;33m           outputs = execute.execute(\n\u001b[0m\u001b[0;32m    546\u001b[0m               \u001b[0mstr\u001b[0m\u001b[1;33m(\u001b[0m\u001b[0mself\u001b[0m\u001b[1;33m.\u001b[0m\u001b[0msignature\u001b[0m\u001b[1;33m.\u001b[0m\u001b[0mname\u001b[0m\u001b[1;33m)\u001b[0m\u001b[1;33m,\u001b[0m\u001b[1;33m\u001b[0m\u001b[1;33m\u001b[0m\u001b[0m\n\u001b[0;32m    547\u001b[0m               \u001b[0mnum_outputs\u001b[0m\u001b[1;33m=\u001b[0m\u001b[0mself\u001b[0m\u001b[1;33m.\u001b[0m\u001b[0m_num_outputs\u001b[0m\u001b[1;33m,\u001b[0m\u001b[1;33m\u001b[0m\u001b[1;33m\u001b[0m\u001b[0m\n",
      "\u001b[1;32mC:\\ProgramData\\Anaconda3\\envs\\GPUEnv\\lib\\site-packages\\tensorflow\\python\\eager\\execute.py\u001b[0m in \u001b[0;36mquick_execute\u001b[1;34m(op_name, num_outputs, inputs, attrs, ctx, name)\u001b[0m\n\u001b[0;32m     57\u001b[0m   \u001b[1;32mtry\u001b[0m\u001b[1;33m:\u001b[0m\u001b[1;33m\u001b[0m\u001b[1;33m\u001b[0m\u001b[0m\n\u001b[0;32m     58\u001b[0m     \u001b[0mctx\u001b[0m\u001b[1;33m.\u001b[0m\u001b[0mensure_initialized\u001b[0m\u001b[1;33m(\u001b[0m\u001b[1;33m)\u001b[0m\u001b[1;33m\u001b[0m\u001b[1;33m\u001b[0m\u001b[0m\n\u001b[1;32m---> 59\u001b[1;33m     tensors = pywrap_tfe.TFE_Py_Execute(ctx._handle, device_name, op_name,\n\u001b[0m\u001b[0;32m     60\u001b[0m                                         inputs, attrs, num_outputs)\n\u001b[0;32m     61\u001b[0m   \u001b[1;32mexcept\u001b[0m \u001b[0mcore\u001b[0m\u001b[1;33m.\u001b[0m\u001b[0m_NotOkStatusException\u001b[0m \u001b[1;32mas\u001b[0m \u001b[0me\u001b[0m\u001b[1;33m:\u001b[0m\u001b[1;33m\u001b[0m\u001b[1;33m\u001b[0m\u001b[0m\n",
      "\u001b[1;31mResourceExhaustedError\u001b[0m:  OOM when allocating tensor with shape[4,4,1024,2048] and type float on /job:localhost/replica:0/task:0/device:GPU:0 by allocator GPU_0_bfc\n\t [[node gradient_tape/Discriminator/conv2d_20/conv2d_21/Conv2D_1/Conv2DBackpropFilter (defined at C:\\Users\\Kriple\\PycharmProjects\\pythonProject\\PokemonGAN\\building\\models.py:192) ]]\nHint: If you want to see a list of allocated tensors when OOM happens, add report_tensor_allocations_upon_oom to RunOptions for current allocation info.\n [Op:__inference_train_d_12205]\n\nErrors may have originated from an input operation.\nInput Source operations connected to node gradient_tape/Discriminator/conv2d_20/conv2d_21/Conv2D_1/Conv2DBackpropFilter:\n Discriminator/leaky_relu_8/leaky_re_lu_8/LeakyRelu_1 (defined at C:\\Users\\Kriple\\PycharmProjects\\pythonProject\\PokemonGAN\\building\\ops.py:87)\n\nFunction call stack:\ntrain_d\n"
>>>>>>> 2581697... test
     ]
    }
   ],
   "source": [
<<<<<<< HEAD
    "gan_model.train(dataset=train_generator, val_dataset=val_generator, start_epoch=0, epochs=int(5e4), n_itr=100, z=z)"
=======
    "gan_model.train(dataset=train_generator, val_dataset=val_generator, start_epoch=0, epochs=int(5e4), n_itr=5, z=z)"
>>>>>>> 2581697... test
   ]
  },
  {
   "cell_type": "code",
   "execution_count": null,
   "metadata": {},
   "outputs": [],
   "source": [
    "xxx"
   ]
  },
  {
   "cell_type": "code",
   "execution_count": null,
   "metadata": {},
   "outputs": [],
   "source": []
  },
  {
   "cell_type": "code",
   "execution_count": null,
   "metadata": {},
   "outputs": [],
   "source": []
  },
  {
   "cell_type": "code",
   "execution_count": null,
   "metadata": {},
   "outputs": [],
   "source": [
    "#to restore trained model, set filepath=_restore"
   ]
  },
  {
   "cell_type": "code",
   "execution_count": null,
   "metadata": {},
   "outputs": [],
   "source": []
  },
  {
   "cell_type": "code",
   "execution_count": null,
   "metadata": {},
   "outputs": [],
   "source": []
  },
  {
   "cell_type": "code",
   "execution_count": null,
   "metadata": {},
   "outputs": [],
   "source": []
  },
  {
   "cell_type": "code",
   "execution_count": null,
   "metadata": {
    "scrolled": true
   },
   "outputs": [],
   "source": [
    "from utils.data_and_files.file_utils import create_if_not_exist\n",
    "save_dir = os.path.join(experiments_dir, 'interpolate_dir')\n",
    "create_if_not_exist(save_dir)\n",
    "\n",
    "interpolate_a_batch(ae, val_generator.as_numpy_iterator(), save_dir)"
   ]
  },
  {
   "cell_type": "code",
   "execution_count": null,
   "metadata": {},
   "outputs": [],
   "source": [
    "from training.generators.from_images.image_generation_testing import interpolate_a_batch"
   ]
  },
  {
   "cell_type": "code",
   "execution_count": null,
   "metadata": {},
   "outputs": [],
   "source": [
    "from utils.data_and_files.file_utils import create_if_not_exist\n",
    "save_dir = os.path.join(experiments_dir, 'random_synthetic_dir')\n",
    "create_if_not_exist(save_dir)\n",
    "\n",
    "generate_images_randomly(ae, save_dir)"
   ]
  },
  {
   "cell_type": "code",
   "execution_count": null,
   "metadata": {},
   "outputs": [],
   "source": [
    "from training.generators.from_images.image_generation_testing import generate_images_randomly"
   ]
  },
  {
   "cell_type": "markdown",
   "metadata": {},
   "source": [
    "### Complete Randomness"
   ]
  },
  {
   "cell_type": "code",
   "execution_count": null,
   "metadata": {},
   "outputs": [],
   "source": []
  },
  {
   "cell_type": "code",
   "execution_count": null,
   "metadata": {},
   "outputs": [],
   "source": [
    "from utils.data_and_files.file_utils import create_if_not_exist\n",
    "save_dir = os.path.join(experiments_dir, 'generate_testing_images_like_a_batch_dir')\n",
    "create_if_not_exist(save_dir)\n",
    "\n",
    "generate_images_like_a_batch(ae, val_generator.as_numpy_iterator(), save_dir)"
   ]
  },
  {
   "cell_type": "code",
   "execution_count": null,
   "metadata": {},
   "outputs": [],
   "source": [
    "from utils.data_and_files.file_utils import create_if_not_exist\n",
    "save_dir = os.path.join(experiments_dir, 'generate_training_images_like_a_batch_dir')\n",
    "create_if_not_exist(save_dir)\n",
    "\n",
    "generate_images_like_a_batch(ae, train_generator.as_numpy_iterator(), save_dir)"
   ]
  },
  {
   "cell_type": "code",
   "execution_count": null,
   "metadata": {},
   "outputs": [],
   "source": [
    "from training.generators.from_images.image_generation_testing import generate_images_like_a_batch"
   ]
  },
  {
   "cell_type": "markdown",
   "metadata": {},
   "source": [
    "## with Randomness"
   ]
  },
  {
   "cell_type": "code",
   "execution_count": null,
   "metadata": {},
   "outputs": [],
   "source": [
    "from utils.data_and_files.file_utils import create_if_not_exist\n",
    "save_dir = os.path.join(experiments_dir, 'reconstruct_testing_images_like_a_batch_dir')\n",
    "create_if_not_exist(save_dir)\n",
    "\n",
    "reconstruct_from_a_batch(ae, val_generator.as_numpy_iterator(), save_dir)"
   ]
  },
  {
   "cell_type": "code",
   "execution_count": null,
   "metadata": {},
   "outputs": [],
   "source": [
    "from utils.data_and_files.file_utils import create_if_not_exist\n",
    "save_dir = os.path.join(experiments_dir, 'reconstruct_training_images_like_a_batch_dir')\n",
    "create_if_not_exist(save_dir)\n",
    "\n",
    "reconstruct_from_a_batch(ae, train_generator.as_numpy_iterator(), save_dir)"
   ]
  },
  {
   "cell_type": "code",
   "execution_count": null,
   "metadata": {},
   "outputs": [],
   "source": [
    "from training.generators.from_images.image_generation_testing import reconstruct_from_a_batch"
   ]
  },
  {
   "cell_type": "markdown",
   "metadata": {},
   "source": [
    "### Training dataset"
   ]
  },
  {
   "cell_type": "markdown",
   "metadata": {},
   "source": [
    "## image reconstruction"
   ]
  },
  {
   "cell_type": "markdown",
   "metadata": {},
   "source": [
    "# Image Generation"
   ]
  },
  {
   "cell_type": "code",
   "execution_count": null,
   "metadata": {},
   "outputs": [],
   "source": []
  },
  {
   "cell_type": "code",
   "execution_count": null,
   "metadata": {},
   "outputs": [],
   "source": [
    "_recall_score = recall_score(ae, train_generator.as_numpy_iterator(), tolerance_threshold=1e-6, max_iteration=1000)\n",
    "print(f'recall score: {_recall_score}')"
   ]
  },
  {
   "cell_type": "code",
   "execution_count": null,
   "metadata": {},
   "outputs": [],
   "source": [
    "from evaluation.generativity_metrics.precision_recall import recall_score"
   ]
  },
  {
   "cell_type": "markdown",
   "metadata": {},
   "source": [
    "## recall score"
   ]
  },
  {
   "cell_type": "code",
   "execution_count": null,
   "metadata": {
    "scrolled": true
   },
   "outputs": [],
   "source": [
    "_precision_score = precision_score(ae,  train_generator.as_numpy_iterator(), \n",
    "                                   tolerance_threshold=1e-6, \n",
    "                                   max_iteration=1000)\n",
    "print(f'precision score: {_precision_score}')"
   ]
  },
  {
   "cell_type": "code",
   "execution_count": null,
   "metadata": {},
   "outputs": [],
   "source": [
    "from evaluation.generativity_metrics.precision_recall import precision_score"
   ]
  },
  {
   "cell_type": "markdown",
   "metadata": {},
   "source": [
    "## precision score"
   ]
  },
  {
   "cell_type": "code",
   "execution_count": null,
   "metadata": {},
   "outputs": [],
   "source": []
  },
  {
   "cell_type": "code",
   "execution_count": null,
   "metadata": {},
   "outputs": [],
   "source": [
    "ppl_mean_score = perceptual_path_length_score(ae, train_generator.as_numpy_iterator(), \n",
    "                                              tolerance_threshold=1e-6, \n",
    "                                              max_iteration=1000, \n",
    "                                              batch_size=32)\n",
    "print(f'perceptual path length score: {ppl_mean_score}')"
   ]
  },
  {
   "cell_type": "code",
   "execution_count": null,
   "metadata": {},
   "outputs": [],
   "source": [
    "from evaluation.generativity_metrics.perceptual_path_length import perceptual_path_length_score"
   ]
  },
  {
   "cell_type": "markdown",
   "metadata": {},
   "source": [
    "## perceptual_path_length_score"
   ]
  },
  {
   "cell_type": "code",
   "execution_count": null,
   "metadata": {
    "scrolled": true
   },
   "outputs": [],
   "source": [
    "fis_score = frechet_inception_distance(ae, train_generator.as_numpy_iterator(), \n",
    "                                       tolerance_threshold=1e-6, \n",
    "                                       max_iteration=1000, \n",
    "                                       batch_size=32)\n",
    "print(f'frechet inception distance: {fis_score.compute()}')"
   ]
  },
  {
   "cell_type": "code",
   "execution_count": null,
   "metadata": {},
   "outputs": [],
   "source": [
    "from evaluation.generativity_metrics.inception_metrics import frechet_inception_distance"
   ]
  },
  {
   "cell_type": "markdown",
   "metadata": {},
   "source": [
    "## Frechet_inception_distance"
   ]
  },
  {
   "cell_type": "code",
   "execution_count": null,
   "metadata": {
    "scrolled": true
   },
   "outputs": [],
   "source": [
    "is_mean, is_sigma = inception_score(ae, tolerance_threshold=1e-6, max_iteration=1000)\n",
    "print(f'inception_score mean: {is_mean.compute()}, sigma: {is_sigma.compute()}')"
   ]
  },
  {
   "cell_type": "code",
   "execution_count": null,
   "metadata": {},
   "outputs": [],
   "source": [
    "from evaluation.generativity_metrics.inception_metrics import inception_score"
   ]
  },
  {
   "cell_type": "markdown",
   "metadata": {},
   "source": [
    "## inception_score"
   ]
  },
  {
   "cell_type": "markdown",
   "metadata": {},
   "source": [
    "# Model Evaluation"
   ]
  },
  {
   "cell_type": "code",
   "execution_count": null,
   "metadata": {
    "scrolled": true
   },
   "outputs": [],
   "source": [
    "ae.fit(\n",
    "    x=train_generator,\n",
    "    input_kw='images',\n",
    "    steps_per_epoch=5,#int(5e3),\n",
    "    epochs=5,#int(1e6), \n",
    "    verbose=1,\n",
    "    #callbacks=[es, ms, csv_log, sg],\n",
    "    workers=-1,\n",
    "    use_multiprocessing=True,\n",
    "    validation_data=train_generator,\n",
    "    validation_steps=int(1e4)\n",
    ")"
   ]
  },
  {
   "cell_type": "markdown",
   "metadata": {},
   "source": [
    "# Model Training"
   ]
  },
  {
   "cell_type": "code",
   "execution_count": null,
   "metadata": {},
   "outputs": [],
   "source": [
    "sg = SampleGeneration(latents_shape=latents_dim, filepath=image_gen_dir, gen_freq=5, save_img=True, gray_plot=False)"
   ]
  },
  {
   "cell_type": "code",
   "execution_count": null,
   "metadata": {},
   "outputs": [],
   "source": [
    "image_gen_dir = os.path.join(experiments_dir, 'image_gen_dir')\n",
    "create_if_not_exist(image_gen_dir)"
   ]
  },
  {
   "cell_type": "code",
   "execution_count": null,
   "metadata": {},
   "outputs": [],
   "source": [
    "csv_dir = os.path.join(experiments_dir, 'csv_dir')\n",
    "create_if_not_exist(csv_dir)\n",
    "csv_dir = os.path.join(csv_dir, ae.name+'.csv')\n",
    "csv_log = tf.keras.callbacks.CSVLogger(csv_dir, append=True)\n",
    "csv_dir"
   ]
  },
  {
   "cell_type": "code",
   "execution_count": null,
   "metadata": {},
   "outputs": [],
   "source": [
    "ms = ModelSaver(filepath=_restore)"
   ]
  },
  {
   "cell_type": "code",
   "execution_count": null,
   "metadata": {},
   "outputs": [],
   "source": [
    "es = tf.keras.callbacks.EarlyStopping(\n",
    "    monitor='val_loss', \n",
    "    min_delta=1e-15, \n",
    "    patience=10, \n",
    "    verbose=1, \n",
    "    restore_best_weights=False\n",
    ")"
   ]
  },
  {
   "cell_type": "code",
   "execution_count": null,
   "metadata": {},
   "outputs": [],
   "source": [
    "from training.callbacks.sample_generation import SampleGeneration\n",
    "from training.callbacks.save_model import ModelSaver"
   ]
  },
  {
   "cell_type": "markdown",
   "metadata": {},
   "source": [
    "# Callbacks"
   ]
  },
  {
   "cell_type": "code",
   "execution_count": null,
   "metadata": {},
   "outputs": [],
   "source": [
    "ae.output_shape"
   ]
  },
  {
   "cell_type": "code",
   "execution_count": null,
   "metadata": {},
   "outputs": [],
   "source": [
    "ae.compile(metrics=None)"
   ]
  },
  {
   "cell_type": "code",
   "execution_count": null,
   "metadata": {
    "scrolled": false
   },
   "outputs": [],
   "source": [
    "ae = AE( \n",
    "    name=model_name,\n",
    "    latents_dim=latents_dim,\n",
    "    batch_size=batch_size,\n",
    "    variables_params=variables_params, \n",
    "    filepath=_restore\n",
    "    )"
   ]
  },
  {
   "cell_type": "code",
   "execution_count": null,
   "metadata": {},
   "outputs": [],
   "source": [
    "int(2e4)/1000"
   ]
  }
 ],
 "metadata": {
  "kernelspec": {
   "display_name": "Python 3",
   "language": "python",
   "name": "python3"
  },
  "language_info": {
   "codemirror_mode": {
    "name": "ipython",
    "version": 3
   },
   "file_extension": ".py",
   "mimetype": "text/x-python",
   "name": "python",
   "nbconvert_exporter": "python",
   "pygments_lexer": "ipython3",
   "version": "3.8.5"
  }
 },
 "nbformat": 4,
 "nbformat_minor": 2
}
